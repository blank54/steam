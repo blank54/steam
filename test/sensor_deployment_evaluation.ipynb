{
 "cells": [
  {
   "cell_type": "markdown",
   "id": "50a733ad",
   "metadata": {},
   "source": [
    "# Configuration"
   ]
  },
  {
   "cell_type": "code",
   "execution_count": 2,
   "id": "9017d26f",
   "metadata": {},
   "outputs": [],
   "source": [
    "import os\n",
    "__file__ = os.getcwd()\n",
    "__root__ = os.path.dirname(__file__)\n",
    "\n",
    "import sys\n",
    "sys.path.append(os.path.join(__root__, 'lib'))"
   ]
  },
  {
   "cell_type": "code",
   "execution_count": 3,
   "id": "e4f55627",
   "metadata": {},
   "outputs": [],
   "source": [
    "import pandas as pd"
   ]
  },
  {
   "cell_type": "markdown",
   "id": "bf569134",
   "metadata": {},
   "source": [
    "# Data Import"
   ]
  },
  {
   "cell_type": "code",
   "execution_count": null,
   "id": "ae44e4c8",
   "metadata": {},
   "outputs": [],
   "source": [
    "from sensor_deployment import SiteManagement\n",
    "site_management = SiteManagement()"
   ]
  },
  {
   "cell_type": "code",
   "execution_count": null,
   "id": "fd2015ec",
   "metadata": {},
   "outputs": [],
   "source": [
    "FNAME_DATA = 'data/site_layout_sample/rectangle_10by10.xlsx'\n",
    "FNAME_CORRECT = 'data/site_layout_sample/rectangle_10by10_corner.xlsx'"
   ]
  },
  {
   "cell_type": "code",
   "execution_count": null,
   "id": "9eca142e",
   "metadata": {},
   "outputs": [],
   "source": [
    "fpath_data = os.path.join(__root__, FNAME_DATA)\n",
    "site = site_management.load(fpath_data)\n",
    "\n",
    "site_management.print(site)"
   ]
  },
  {
   "cell_type": "code",
   "execution_count": null,
   "id": "fecbd0da",
   "metadata": {},
   "outputs": [],
   "source": [
    "fpath_correct = os.path.join(FDIR_DATA, FNAME_CORRECT)\n",
    "correct = site_management.load(fpath_correct)\n",
    "\n",
    "site_management.print(correct)"
   ]
  },
  {
   "cell_type": "markdown",
   "id": "51851231",
   "metadata": {},
   "source": [
    "# Accuracy"
   ]
  },
  {
   "cell_type": "markdown",
   "id": "ca415e89",
   "metadata": {},
   "source": [
    "### Grid Pattern Corner Detection"
   ]
  },
  {
   "cell_type": "code",
   "execution_count": null,
   "id": "9381c017",
   "metadata": {},
   "outputs": [],
   "source": [
    "from sensor_deployment import GridCornerDetection, HarrisCornerDetection\n",
    "grid_corner_detection = GridCornerDetection(__root__)\n",
    "harris = HarrisCornerDetection()\n",
    "\n",
    "from evaluation import CornerEvaluation\n",
    "corner_evaluation = CornerEvaluation()"
   ]
  },
  {
   "cell_type": "code",
   "execution_count": null,
   "id": "67ff495e",
   "metadata": {},
   "outputs": [],
   "source": [
    "result_grid_pattern = grid_corner_detection.detect(site)\n",
    "accuracy = corner_evaluation.accuracy(result_grid_pattern, correct)\n",
    "\n",
    "print('Accuracy: {:.f}'.format(accuracy))"
   ]
  },
  {
   "cell_type": "markdown",
   "id": "1cc2849a",
   "metadata": {},
   "source": [
    "### Harris Corner Detection"
   ]
  },
  {
   "cell_type": "code",
   "execution_count": null,
   "id": "91047038",
   "metadata": {},
   "outputs": [],
   "source": []
  }
 ],
 "metadata": {
  "kernelspec": {
   "display_name": "Python 3 (ipykernel)",
   "language": "python",
   "name": "python3"
  },
  "language_info": {
   "codemirror_mode": {
    "name": "ipython",
    "version": 3
   },
   "file_extension": ".py",
   "mimetype": "text/x-python",
   "name": "python",
   "nbconvert_exporter": "python",
   "pygments_lexer": "ipython3",
   "version": "3.11.4"
  }
 },
 "nbformat": 4,
 "nbformat_minor": 5
}
