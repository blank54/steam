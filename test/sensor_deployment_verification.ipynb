{
 "cells": [
  {
   "cell_type": "markdown",
   "id": "13f21bf2",
   "metadata": {},
   "source": [
    "# Configuration"
   ]
  },
  {
   "cell_type": "code",
   "execution_count": 1,
   "id": "002aecf4",
   "metadata": {},
   "outputs": [],
   "source": [
    "import os\n",
    "__file__ = os.getcwd()\n",
    "__root__ = os.path.dirname(__file__)\n",
    "\n",
    "import sys\n",
    "sys.path.append(os.path.join(__root__, 'lib'))"
   ]
  },
  {
   "cell_type": "markdown",
   "id": "bd81fc39",
   "metadata": {},
   "source": [
    "# Data Import"
   ]
  },
  {
   "cell_type": "code",
   "execution_count": null,
   "id": "222822b8",
   "metadata": {},
   "outputs": [],
   "source": [
    "from sensor_deployment import SiteManagement\n",
    "site_management = SiteManagement()"
   ]
  },
  {
   "cell_type": "code",
   "execution_count": null,
   "id": "f8ab4895",
   "metadata": {},
   "outputs": [],
   "source": [
    "FNAME_DATA = 'data/site_layout_sample/rectangle_10by10.xlsx'"
   ]
  },
  {
   "cell_type": "code",
   "execution_count": 5,
   "id": "0e3fb8fd",
   "metadata": {},
   "outputs": [
    {
     "name": "stdout",
     "output_type": "stream",
     "text": [
      "0 0 0 0 0 0 0 0 0 0\n",
      "0 0 0 0 0 0 0 0 0 0\n",
      "0 0 0 0 0 0 0 0 0 0\n",
      "1 1 1 1 1 1 1 1 0 0\n",
      "1 1 1 1 1 1 1 1 0 0\n",
      "1 1 1 1 1 1 1 1 0 0\n",
      "1 1 1 1 1 1 1 1 0 0\n",
      "1 1 1 1 1 1 1 1 0 0\n",
      "0 0 0 0 0 0 0 0 0 0\n",
      "0 0 0 0 0 0 0 0 0 0\n"
     ]
    }
   ],
   "source": [
    "fpath_data = os.path.join(__root__, FNAME_DATA)\n",
    "site = site_management.load(fpath_data)\n",
    "\n",
    "site_management.print(site)"
   ]
  },
  {
   "cell_type": "markdown",
   "id": "3403ffea",
   "metadata": {},
   "source": [
    "# Grid Pattern Corner Detection"
   ]
  },
  {
   "cell_type": "code",
   "execution_count": null,
   "id": "acd947a3",
   "metadata": {},
   "outputs": [],
   "source": [
    "from sensor_deployment import GridCornerDetection\n",
    "grid_corner_detection = GridCornerDetection(__root__)"
   ]
  },
  {
   "cell_type": "code",
   "execution_count": 4,
   "id": "e4c049a3",
   "metadata": {},
   "outputs": [
    {
     "name": "stdout",
     "output_type": "stream",
     "text": [
      "0 0 0 0 0 0 0 0 0 0\n",
      "0 0 0 0 0 0 0 0 0 0\n",
      "0 0 0 0 0 0 0 0 0 0\n",
      "2 1 1 1 1 1 1 2 0 0\n",
      "1 1 1 1 1 1 1 1 0 0\n",
      "1 1 1 1 1 1 1 1 0 0\n",
      "1 1 1 1 1 1 1 1 0 0\n",
      "2 1 1 1 1 1 1 2 0 0\n",
      "0 0 0 0 0 0 0 0 0 0\n",
      "0 0 0 0 0 0 0 0 0 0\n"
     ]
    }
   ],
   "source": [
    "result_grid_pattern = grid_corner_detection.detect(site)\n",
    "\n",
    "site_management.print(result_grid_pattern)"
   ]
  },
  {
   "cell_type": "markdown",
   "id": "5d16a904",
   "metadata": {},
   "source": [
    "# Harris Corner Detection"
   ]
  },
  {
   "cell_type": "markdown",
   "id": "baf621ff",
   "metadata": {},
   "source": [
    "여기에서 Harris Corner Detection 코드가 잘 작동하는지 확인하면 되겠다."
   ]
  },
  {
   "cell_type": "code",
   "execution_count": null,
   "id": "aafae8d8",
   "metadata": {},
   "outputs": [],
   "source": [
    "from sensor_deployment import HarrisCornerDetection\n",
    "harris = HarrisCornerDetection()"
   ]
  },
  {
   "cell_type": "code",
   "execution_count": null,
   "id": "41ad370d",
   "metadata": {},
   "outputs": [],
   "source": [
    "parameters = {\n",
    "    '''\n",
    "    Harris Corner Detection 모델에서 사용할 파라미터들 입력\n",
    "    '''\n",
    "}"
   ]
  },
  {
   "cell_type": "code",
   "execution_count": null,
   "id": "77e1e063",
   "metadata": {},
   "outputs": [],
   "source": [
    "result_harris = harris.detect(site, parameters)\n",
    "\n",
    "site_management.print(result_harris)"
   ]
  }
 ],
 "metadata": {
  "kernelspec": {
   "display_name": "Python 3 (ipykernel)",
   "language": "python",
   "name": "python3"
  },
  "language_info": {
   "codemirror_mode": {
    "name": "ipython",
    "version": 3
   },
   "file_extension": ".py",
   "mimetype": "text/x-python",
   "name": "python",
   "nbconvert_exporter": "python",
   "pygments_lexer": "ipython3",
   "version": "3.11.4"
  }
 },
 "nbformat": 4,
 "nbformat_minor": 5
}
